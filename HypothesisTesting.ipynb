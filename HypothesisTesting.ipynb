{
  "nbformat": 4,
  "nbformat_minor": 0,
  "metadata": {
    "colab": {
      "provenance": []
    },
    "kernelspec": {
      "name": "python3",
      "display_name": "Python 3"
    },
    "language_info": {
      "name": "python"
    }
  },
  "cells": [
    {
      "cell_type": "code",
      "execution_count": null,
      "metadata": {
        "id": "tu5dt-CIFg5T"
      },
      "outputs": [],
      "source": [
        "import pandas as pd\n",
        "import numpy as np\n",
        "import scipy \n",
        "from scipy import stats"
      ]
    },
    {
      "cell_type": "markdown",
      "source": [
        "# Call center example"
      ],
      "metadata": {
        "id": "zp1OsgtXG18K"
      }
    },
    {
      "cell_type": "code",
      "source": [
        "# To calculate both the tails test\n",
        "\n",
        "2*stats.t.cdf(-1.4,49)  "
      ],
      "metadata": {
        "colab": {
          "base_uri": "https://localhost:8080/"
        },
        "id": "UQC89qTKG6kZ",
        "outputId": "e7e72164-cbd2-45a1-a7df-dacb89e97057"
      },
      "execution_count": null,
      "outputs": [
        {
          "output_type": "execute_result",
          "data": {
            "text/plain": [
              "0.16781331091681306"
            ]
          },
          "metadata": {},
          "execution_count": 3
        }
      ]
    },
    {
      "cell_type": "code",
      "source": [
        "# To calculate one  tails test\n",
        "\n",
        "\n",
        "#1-stats.t.cdf(1.4,49)  you can find like this also\n",
        "\n",
        "stats.t.cdf(-1.4,49)"
      ],
      "metadata": {
        "colab": {
          "base_uri": "https://localhost:8080/"
        },
        "id": "wEXtn32OHLfZ",
        "outputId": "7bd7a18e-51e6-4511-cd48-f22c0b6bc955"
      },
      "execution_count": null,
      "outputs": [
        {
          "output_type": "execute_result",
          "data": {
            "text/plain": [
              "0.08390665545840653"
            ]
          },
          "metadata": {},
          "execution_count": 9
        }
      ]
    },
    {
      "cell_type": "markdown",
      "source": [
        "# One tail test"
      ],
      "metadata": {
        "id": "gQfi4pVObOsw"
      }
    },
    {
      "cell_type": "code",
      "source": [
        "# Ice cream factory example\n",
        " \n",
        " \n",
        "data = pd.Series([0.593,0.142,0.329,0.691,0.231,0.793,0.519,0.392,0.418])\n",
        "data"
      ],
      "metadata": {
        "id": "qZ_DyGo8Hi0L",
        "colab": {
          "base_uri": "https://localhost:8080/"
        },
        "outputId": "551bab66-8258-4c44-d57a-f1fd4ce45d7b"
      },
      "execution_count": null,
      "outputs": [
        {
          "output_type": "execute_result",
          "data": {
            "text/plain": [
              "0    0.593\n",
              "1    0.142\n",
              "2    0.329\n",
              "3    0.691\n",
              "4    0.231\n",
              "5    0.793\n",
              "6    0.519\n",
              "7    0.392\n",
              "8    0.418\n",
              "dtype: float64"
            ]
          },
          "metadata": {},
          "execution_count": 5
        }
      ]
    },
    {
      "cell_type": "code",
      "source": [
        "p = stats.ttest_1samp(data,0.3)[1]  # mu = 0.3,  index of pvalue is 1, so [1] is given....\n",
        "                                    #stats.ttest_1samp(data,0.3) this command will give you two tail test values so it will have two indexes 0(tvalue) and 1(pvalue) so 1 will be the p value\n",
        "p                    # pvalue is given so p = p1+p2"
      ],
      "metadata": {
        "colab": {
          "base_uri": "https://localhost:8080/"
        },
        "id": "7siUIX05cP8g",
        "outputId": "4f3bfe4a-333a-47a7-8081-cf78a17d2ee9"
      },
      "execution_count": null,
      "outputs": [
        {
          "output_type": "execute_result",
          "data": {
            "text/plain": [
              "0.05853032968489765"
            ]
          },
          "metadata": {},
          "execution_count": 12
        }
      ]
    },
    {
      "cell_type": "code",
      "source": [
        "# This pvalue is two tail test.\n",
        "# So this is one tail test, pvalue divide it by 2 to get the final pvalue \n",
        "\n",
        "# Alpha = 0.05 , pvalue = 0.029  so  P <= Alpha so accept Alter.Hypothises\n",
        "\n",
        "\n",
        "\n",
        "p_value = p/2\n",
        "p_value"
      ],
      "metadata": {
        "colab": {
          "base_uri": "https://localhost:8080/"
        },
        "id": "taqlsgw5c_H1",
        "outputId": "8ccfd22f-2c82-4d39-fe43-b6033d7d7113"
      },
      "execution_count": null,
      "outputs": [
        {
          "output_type": "execute_result",
          "data": {
            "text/plain": [
              "0.029265164842448826"
            ]
          },
          "metadata": {},
          "execution_count": 11
        }
      ]
    },
    {
      "cell_type": "markdown",
      "source": [
        "# Two tail test"
      ],
      "metadata": {
        "id": "eUz_qf0uhwML"
      }
    },
    {
      "cell_type": "code",
      "source": [
        "# Compairing drugs - Control group and treatment group\n",
        "\n",
        "control = pd.Series([91,87,99,77,88,91])\n",
        "treat = pd.Series([101,110,103,93,99,104])"
      ],
      "metadata": {
        "id": "AnVr8gdvezXu"
      },
      "execution_count": null,
      "outputs": []
    },
    {
      "cell_type": "code",
      "source": [
        "stats.ttest_ind(control,treat)\n",
        "\n",
        "# We are conducting 2 sample 2 tail test,so no need to divide it by 2\n",
        "# Interpretation :- 2 Responses are not equal so drug is working"
      ],
      "metadata": {
        "colab": {
          "base_uri": "https://localhost:8080/"
        },
        "id": "uKqhkxzqiJ2d",
        "outputId": "1e916ee4-25ec-45bf-da20-611614904faa"
      },
      "execution_count": null,
      "outputs": [
        {
          "output_type": "execute_result",
          "data": {
            "text/plain": [
              "Ttest_indResult(statistic=-3.4456126735364876, pvalue=0.006272124350809803)"
            ]
          },
          "metadata": {},
          "execution_count": 16
        }
      ]
    },
    {
      "cell_type": "markdown",
      "source": [
        "#  2 Proportion test"
      ],
      "metadata": {
        "id": "zOF8dCB4i601"
      }
    },
    {
      "cell_type": "code",
      "source": [
        "# Placement data example\n",
        "# They have given only 247 data that this much students have placed from a population data with proportion \n",
        "n1 = 247\n",
        "p1 = .37  # Placed proportion i.e 1\n",
        "          # Proportion is 0.37\n",
        "\n",
        "n2 =308\n",
        "p2 = .39 # Placed proportion i.e 1 \n",
        "         # Proportion is 0.39"
      ],
      "metadata": {
        "id": "5FUPjPnUjD5n"
      },
      "execution_count": null,
      "outputs": []
    },
    {
      "cell_type": "code",
      "source": [
        "# We are   GENERATING THE DATA.\n",
        "\n",
        "\n",
        "pop1 =np.random.binomial(1,p1,n1) \n",
        "# 1 is placed and 0 is not placed i.e Probability success \n",
        "# We are taking success for placed and not placed i.e 1 and 0\n",
        "\n",
        "pop2 =np.random.binomial(1,p2,n2)\n",
        "# As it is random function every time you execute you will get different value "
      ],
      "metadata": {
        "id": "rQsOvPwqmphV"
      },
      "execution_count": null,
      "outputs": []
    },
    {
      "cell_type": "code",
      "source": [
        "pop1"
      ],
      "metadata": {
        "id": "0HcvwAiNm8rJ"
      },
      "execution_count": null,
      "outputs": []
    },
    {
      "cell_type": "code",
      "source": [
        "pop2"
      ],
      "metadata": {
        "id": "2m6QfnBuobZ8"
      },
      "execution_count": null,
      "outputs": []
    },
    {
      "cell_type": "code",
      "source": [
        "import statsmodels.api as sm"
      ],
      "metadata": {
        "id": "EA25hGXKpwYO"
      },
      "execution_count": null,
      "outputs": []
    },
    {
      "cell_type": "code",
      "source": [
        "sm.stats.ttest_ind(pop1,pop2)\n",
        "# Middle value is the P-value \n",
        "\n",
        "\n",
        "# Interpretation : Students are equally got placed in 2 stats\n",
        "                # No significant differences in providing placements opportunities to students in 2 stats"
      ],
      "metadata": {
        "colab": {
          "base_uri": "https://localhost:8080/"
        },
        "id": "3GkLfjeKqpYu",
        "outputId": "842b69f3-8a4b-4b1f-e868-2da8ae81e695"
      },
      "execution_count": null,
      "outputs": [
        {
          "output_type": "execute_result",
          "data": {
            "text/plain": [
              "(-0.48739874126384336, 0.6261689375124135, 553.0)"
            ]
          },
          "metadata": {},
          "execution_count": 30
        }
      ]
    },
    {
      "cell_type": "code",
      "source": [],
      "metadata": {
        "id": "RyCXVgOGq6-1"
      },
      "execution_count": null,
      "outputs": []
    }
  ]
}